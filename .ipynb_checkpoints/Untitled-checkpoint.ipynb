{
 "cells": [
  {
   "cell_type": "code",
   "execution_count": null,
   "metadata": {},
   "outputs": [],
   "source": [
    "# Solve y'(t)=-2y(t)+cos(4t) with y0=3\n",
    " \n",
    "import math\n",
    "import matplotlib.pyplot as plt\n",
    "import numpy as np\n",
    " \n",
    "y0 = 3 # Initial Condition\n",
    "h = 0.1 # Time step\n",
    "t = np.arange( 0, 2+h, h ); # Calculate from 0 to 2 seconds\n",
    " \n",
    "# Exact solution, hard to find in this case (in general we won't have it)\n",
    "yexact = 0.1*np.cos(4*t)+0.2*np.sin(4*t)+2.9*np.exp(-2*t)\n",
    "ystar = np.zeros(t.size); # Preallocate array (good coding practice)\n",
    " \n",
    "ystar[0] = y0; # Initial condition gives solution at t=0\n",
    " \n",
    "# Start of the loop\n",
    "for i in range(0,t.size-1):\n",
    "    k1 = -2*ystar[i]+np.cos(4*t[i]); # Deriv information from previous state\n",
    "    ystar[i+1] = ystar[i] + k1*h; # Calculate solution for next value of y\n",
    "# End of the loop\n",
    " \n",
    "# Plot the result\n",
    "line1, = plt.plot(t,yexact,'r', label='Exact solution')\n",
    "line2, = plt.plot(t, ystar, 'bo--', label=('Numerical solution, h = '+str(h)))\n",
    " \n",
    "plt.legend(handles = [line1, line2])\n",
    "plt.title('Exact and Numerical Solution')\n",
    "plt.xlabel('time (t)')\n",
    "plt.ylabel('Solution of y(t)')\n",
    " \n",
    "plt.show()\n",
    " \n",
    "print ('Complete!')"
   ]
  }
 ],
 "metadata": {
  "kernelspec": {
   "display_name": "Python 3",
   "language": "python",
   "name": "python3"
  },
  "language_info": {
   "codemirror_mode": {
    "name": "ipython",
    "version": 3
   },
   "file_extension": ".py",
   "mimetype": "text/x-python",
   "name": "python",
   "nbconvert_exporter": "python",
   "pygments_lexer": "ipython3",
   "version": "3.7.4"
  }
 },
 "nbformat": 4,
 "nbformat_minor": 4
}
